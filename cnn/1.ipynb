{
 "cells": [
  {
   "cell_type": "code",
   "execution_count": 1,
   "metadata": {},
   "outputs": [],
   "source": [
    "import tensorflow as tf\n",
    "from keras.preprocessing.image import ImageDataGenerator"
   ]
  },
  {
   "cell_type": "code",
   "execution_count": 2,
   "metadata": {},
   "outputs": [
    {
     "data": {
      "text/plain": [
       "'2.11.0'"
      ]
     },
     "execution_count": 2,
     "metadata": {},
     "output_type": "execute_result"
    }
   ],
   "source": [
    "tf.__version__"
   ]
  },
  {
   "cell_type": "code",
   "execution_count": 3,
   "metadata": {},
   "outputs": [
    {
     "name": "stdout",
     "output_type": "stream",
     "text": [
      "Found 8000 images belonging to 2 classes.\n"
     ]
    }
   ],
   "source": [
    "train_datagen = ImageDataGenerator(\n",
    "    rescale=1./255,\n",
    "    shear_range=0.2,\n",
    "    zoom_range=0.2,\n",
    "    horizontal_flip=True\n",
    ")\n",
    "training_set = train_datagen.flow_from_directory(\n",
    "                    'dataset/training_set',\n",
    "                    target_size=(64,64),\n",
    "                    batch_size=32,\n",
    "                    class_mode=\"binary\"\n",
    ")"
   ]
  },
  {
   "cell_type": "code",
   "execution_count": 4,
   "metadata": {},
   "outputs": [
    {
     "name": "stdout",
     "output_type": "stream",
     "text": [
      "Found 2000 images belonging to 2 classes.\n"
     ]
    }
   ],
   "source": [
    "test_datagen = ImageDataGenerator(\n",
    "    rescale=1./255\n",
    ")\n",
    "test_set = test_datagen.flow_from_directory(\n",
    "                    'dataset/test_set',\n",
    "                    target_size=(64,64),\n",
    "                    batch_size=32,\n",
    "                    class_mode=\"binary\"\n",
    ")"
   ]
  },
  {
   "cell_type": "code",
   "execution_count": 5,
   "metadata": {},
   "outputs": [],
   "source": [
    "cnn = tf.keras.models.Sequential()"
   ]
  },
  {
   "cell_type": "code",
   "execution_count": 6,
   "metadata": {},
   "outputs": [],
   "source": [
    "cnn.add(tf.keras.layers.Conv2D(filters=32,kernel_size=3,activation='relu',input_shape=[64,64,3]))"
   ]
  },
  {
   "cell_type": "code",
   "execution_count": 7,
   "metadata": {},
   "outputs": [],
   "source": [
    "cnn.add(tf.keras.layers.MaxPool2D(pool_size=2,strides=2))"
   ]
  },
  {
   "cell_type": "code",
   "execution_count": 8,
   "metadata": {},
   "outputs": [],
   "source": [
    "cnn.add(tf.keras.layers.Conv2D(filters=32,kernel_size=3,activation='relu'))\n",
    "cnn.add(tf.keras.layers.MaxPool2D(pool_size=2,strides=2))"
   ]
  },
  {
   "cell_type": "code",
   "execution_count": 9,
   "metadata": {},
   "outputs": [],
   "source": [
    "cnn.add(tf.keras.layers.Flatten())"
   ]
  },
  {
   "cell_type": "code",
   "execution_count": 10,
   "metadata": {},
   "outputs": [],
   "source": [
    "cnn.add(tf.keras.layers.Dense(units=128, activation='relu'))"
   ]
  },
  {
   "cell_type": "code",
   "execution_count": 11,
   "metadata": {},
   "outputs": [],
   "source": [
    "cnn.add(tf.keras.layers.Dense(units=1, activation='sigmoid'))"
   ]
  },
  {
   "cell_type": "code",
   "execution_count": 12,
   "metadata": {},
   "outputs": [],
   "source": [
    "cnn.compile(optimizer='adam',loss='binary_crossentropy',metrics=['accuracy'])"
   ]
  },
  {
   "cell_type": "code",
   "execution_count": 13,
   "metadata": {},
   "outputs": [
    {
     "name": "stdout",
     "output_type": "stream",
     "text": [
      "Epoch 1/25\n",
      "250/250 [==============================] - 150s 594ms/step - loss: 0.6891 - accuracy: 0.5450 - val_loss: 0.6456 - val_accuracy: 0.6380\n",
      "Epoch 2/25\n",
      "250/250 [==============================] - 104s 415ms/step - loss: 0.6536 - accuracy: 0.6148 - val_loss: 0.6034 - val_accuracy: 0.6770\n",
      "Epoch 3/25\n",
      "250/250 [==============================] - 73s 290ms/step - loss: 0.6036 - accuracy: 0.6730 - val_loss: 0.5612 - val_accuracy: 0.7290\n",
      "Epoch 4/25\n",
      "250/250 [==============================] - 47s 189ms/step - loss: 0.5685 - accuracy: 0.7070 - val_loss: 0.6254 - val_accuracy: 0.6635\n",
      "Epoch 5/25\n",
      "250/250 [==============================] - 48s 190ms/step - loss: 0.5331 - accuracy: 0.7303 - val_loss: 0.5432 - val_accuracy: 0.7315\n",
      "Epoch 6/25\n",
      "250/250 [==============================] - 102s 408ms/step - loss: 0.5146 - accuracy: 0.7475 - val_loss: 0.5196 - val_accuracy: 0.7475\n",
      "Epoch 7/25\n",
      "250/250 [==============================] - 99s 396ms/step - loss: 0.4915 - accuracy: 0.7628 - val_loss: 0.6759 - val_accuracy: 0.6540\n",
      "Epoch 8/25\n",
      "250/250 [==============================] - 64s 257ms/step - loss: 0.4828 - accuracy: 0.7648 - val_loss: 0.5082 - val_accuracy: 0.7560\n",
      "Epoch 9/25\n",
      "250/250 [==============================] - 62s 247ms/step - loss: 0.4655 - accuracy: 0.7753 - val_loss: 0.4868 - val_accuracy: 0.7685\n",
      "Epoch 10/25\n",
      "250/250 [==============================] - 61s 244ms/step - loss: 0.4400 - accuracy: 0.7945 - val_loss: 0.5048 - val_accuracy: 0.7590\n",
      "Epoch 11/25\n",
      "250/250 [==============================] - 55s 221ms/step - loss: 0.4354 - accuracy: 0.7981 - val_loss: 0.5232 - val_accuracy: 0.7475\n",
      "Epoch 12/25\n",
      "250/250 [==============================] - 51s 205ms/step - loss: 0.4143 - accuracy: 0.8064 - val_loss: 0.4625 - val_accuracy: 0.7975\n",
      "Epoch 13/25\n",
      "250/250 [==============================] - 48s 192ms/step - loss: 0.4006 - accuracy: 0.8115 - val_loss: 0.4581 - val_accuracy: 0.7955\n",
      "Epoch 14/25\n",
      "250/250 [==============================] - 54s 216ms/step - loss: 0.3791 - accuracy: 0.8299 - val_loss: 0.4735 - val_accuracy: 0.7790\n",
      "Epoch 15/25\n",
      "250/250 [==============================] - 47s 187ms/step - loss: 0.3671 - accuracy: 0.8361 - val_loss: 0.4545 - val_accuracy: 0.8055\n",
      "Epoch 16/25\n",
      "250/250 [==============================] - 49s 197ms/step - loss: 0.3457 - accuracy: 0.8415 - val_loss: 0.4872 - val_accuracy: 0.7760\n",
      "Epoch 17/25\n",
      "250/250 [==============================] - 88s 352ms/step - loss: 0.3353 - accuracy: 0.8529 - val_loss: 0.4818 - val_accuracy: 0.7845\n",
      "Epoch 18/25\n",
      "250/250 [==============================] - 81s 323ms/step - loss: 0.3223 - accuracy: 0.8616 - val_loss: 0.4630 - val_accuracy: 0.7990\n",
      "Epoch 19/25\n",
      "250/250 [==============================] - 80s 319ms/step - loss: 0.2946 - accuracy: 0.8749 - val_loss: 0.4853 - val_accuracy: 0.8010\n",
      "Epoch 20/25\n",
      "250/250 [==============================] - 70s 281ms/step - loss: 0.2871 - accuracy: 0.8741 - val_loss: 0.4794 - val_accuracy: 0.7970\n",
      "Epoch 21/25\n",
      "250/250 [==============================] - 74s 295ms/step - loss: 0.2758 - accuracy: 0.8840 - val_loss: 0.4797 - val_accuracy: 0.7980\n",
      "Epoch 22/25\n",
      "250/250 [==============================] - 71s 285ms/step - loss: 0.2499 - accuracy: 0.8946 - val_loss: 0.5029 - val_accuracy: 0.8050\n",
      "Epoch 23/25\n",
      "250/250 [==============================] - 70s 279ms/step - loss: 0.2467 - accuracy: 0.8942 - val_loss: 0.5039 - val_accuracy: 0.8035\n",
      "Epoch 24/25\n",
      "250/250 [==============================] - 83s 331ms/step - loss: 0.2379 - accuracy: 0.9001 - val_loss: 0.5324 - val_accuracy: 0.7985\n",
      "Epoch 25/25\n",
      "250/250 [==============================] - 81s 326ms/step - loss: 0.2212 - accuracy: 0.9087 - val_loss: 0.5061 - val_accuracy: 0.8135\n"
     ]
    },
    {
     "data": {
      "text/plain": [
       "<keras.callbacks.History at 0x25969abc670>"
      ]
     },
     "execution_count": 13,
     "metadata": {},
     "output_type": "execute_result"
    }
   ],
   "source": [
    "cnn.fit(x=training_set, validation_data=test_set, epochs=25)"
   ]
  },
  {
   "cell_type": "code",
   "execution_count": 17,
   "metadata": {},
   "outputs": [
    {
     "name": "stdout",
     "output_type": "stream",
     "text": [
      "1/1 [==============================] - 0s 150ms/step\n",
      "dog\n"
     ]
    }
   ],
   "source": [
    "import numpy as np\n",
    "from keras.utils import load_img,img_to_array\n",
    "\n",
    "test_image = load_img('dataset/dog_or_cat_1.jpg',target_size=(64,64))\n",
    "test_image = img_to_array(test_image)\n",
    "test_image = np.expand_dims(test_image,axis=0)\n",
    "result = cnn.predict(test_image)\n",
    "training_set.class_indices\n",
    "if result[0][0]==1:\n",
    "    prediction = 'dog'\n",
    "else :\n",
    "    prediction = 'cat'\n",
    "\n",
    "print(prediction)"
   ]
  },
  {
   "cell_type": "code",
   "execution_count": null,
   "metadata": {},
   "outputs": [],
   "source": []
  }
 ],
 "metadata": {
  "kernelspec": {
   "display_name": "Python 3",
   "language": "python",
   "name": "python3"
  },
  "language_info": {
   "codemirror_mode": {
    "name": "ipython",
    "version": 3
   },
   "file_extension": ".py",
   "mimetype": "text/x-python",
   "name": "python",
   "nbconvert_exporter": "python",
   "pygments_lexer": "ipython3",
   "version": "3.10.4"
  },
  "orig_nbformat": 4
 },
 "nbformat": 4,
 "nbformat_minor": 2
}
